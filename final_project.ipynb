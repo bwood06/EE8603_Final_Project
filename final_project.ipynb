{
  "nbformat": 4,
  "nbformat_minor": 0,
  "metadata": {
    "colab": {
      "provenance": [],
      "toc_visible": true,
      "authorship_tag": "ABX9TyMFpUqvrrLNMrjfDVFbqCGw",
      "include_colab_link": true
    },
    "kernelspec": {
      "name": "python3",
      "display_name": "Python 3"
    },
    "language_info": {
      "name": "python"
    }
  },
  "cells": [
    {
      "cell_type": "markdown",
      "metadata": {
        "id": "view-in-github",
        "colab_type": "text"
      },
      "source": [
        "<a href=\"https://colab.research.google.com/github/bwood06/EE8603_Final_Project/blob/main/final_project.ipynb\" target=\"_parent\"><img src=\"https://colab.research.google.com/assets/colab-badge.svg\" alt=\"Open In Colab\"/></a>"
      ]
    },
    {
      "cell_type": "markdown",
      "source": [
        "# EE8603 Final Project - Abalone Regression\n",
        "### Created by: Brendan Wood - November 29, 2023\n",
        "\n",
        "Run the following cells in order to perfrom build a regression model to predict the age of Abalone Snails."
      ],
      "metadata": {
        "id": "75JkDTTlleFw"
      }
    },
    {
      "cell_type": "markdown",
      "source": [
        "## Import libraries\n",
        "First, import all required python libraries to the notebook."
      ],
      "metadata": {
        "id": "LK0P2-AynAwQ"
      }
    },
    {
      "cell_type": "code",
      "source": [
        "!pip install uci-dataset\n",
        "!pip install pycaret\n",
        "!pip install pandas\n",
        "!pip install matplotlib\n",
        "!pip install scikit-learn\n",
        "!pip install seaborn\n",
        "!pip install scipy"
      ],
      "metadata": {
        "id": "BL22JvlmM5m5"
      },
      "execution_count": null,
      "outputs": []
    },
    {
      "cell_type": "markdown",
      "source": [
        "## Load Dataset\n",
        "Next, the dataset must be loaded. The head of the dataset will be printed to ensure the dataset loaded correctly and a heatmap of the dataset's feature correlations will be shown to better describe the dataset."
      ],
      "metadata": {
        "id": "bxhnotUIlN74"
      }
    },
    {
      "cell_type": "code",
      "execution_count": null,
      "metadata": {
        "id": "BrZSvSTIMQ-M"
      },
      "outputs": [],
      "source": [
        "import seaborn as sns\n",
        "from uci_dataset import load_abalone\n",
        "from matplotlib import pyplot as plt\n",
        "dataset = load_abalone()\n",
        "print(f'Below is the head of the dataset to ensure it loaded correctly. \\n')\n",
        "print(dataset.head())\n",
        "print('\\n----------\\n')\n",
        "print(f'There are {dataset.shape[0]} samples.')\n",
        "print('\\n----------\\n')\n",
        "print(f'There are {dataset.shape[1] - 1} features that can be used for prediction. The features and their data types are listed below: \\n')\n",
        "print(dataset.dtypes)\n",
        "print(f'\\nThere are {dataset.select_dtypes(exclude=object).shape[1]} numeric features and {dataset.select_dtypes(include=object).shape[1]} non-numeric feature.' \\\n",
        "      f'There are {len(dataset[\"Sex\"].unique())} options for the categorical variable.')\n",
        "print(f'After one hot encoding, there will be a total of {dataset.shape[1] - 1 + 2} features that can be used for prediction.')\n",
        "print('\\n----------\\n')\n",
        "print('Below is a Pearson Correlation Coefficient heat map of all the features, from this we can predict which features will be the most important.')\n",
        "print('Given the larger the coefficient, the stronger the correlation, it can be hypothesized that the weight of the shell will be the strongest predictor. \\n')\n",
        "sns.heatmap(dataset.corr(numeric_only=True, method='pearson'), square=True, cmap='RdYlGn')\n",
        "plt.suptitle('Pearson Correlation Coefficient Heat Map of Abalone Numeric Features')\n",
        "plt.show()"
      ]
    },
    {
      "cell_type": "markdown",
      "source": [
        "## Preprocessing\n",
        "The below code creates a training object with various preprocessing settings. It outlines the target variable, the proportion of samples to use for training, which cateogrical features to one-hot encode, and the number of folds to use in k-fold cross validation. It also adds a normalized MSE metric to the experiment for accurate comparsion to the literature."
      ],
      "metadata": {
        "id": "123WTufscUTW"
      }
    },
    {
      "cell_type": "code",
      "source": [
        "from pycaret.regression import RegressionExperiment\n",
        "from sklearn.metrics import mean_squared_error\n",
        "\n",
        "# First set the target variable to rings +1.5, since that is how age is determined\n",
        "dataset['Rings'] += 1.5\n",
        "\n",
        "# Next build the experiment object with the required arguments\n",
        "exp = RegressionExperiment()\n",
        "exp.setup(dataset,\n",
        "          target='Rings',\n",
        "          train_size=0.8,\n",
        "          categorical_features=['Sex'],\n",
        "          fold=5,\n",
        "          session_id=123)\n",
        "\n",
        "# Since the papers cited used a normalized version of the mean squared error, create a lambda function that normalizes the sklearn mean_squared_error\n",
        "# by the variance of the output space.\n",
        "norm_mse = lambda y_true, y_pred: mean_squared_error(y_true, y_pred) / (dataset['Rings'].std() ** 2)\n",
        "\n",
        "# Add the metric to the experiment and call it Normalized MSE\n",
        "_ = exp.add_metric('norm_mse', 'Normalized MSE', norm_mse, greater_is_better=False)"
      ],
      "metadata": {
        "id": "xxMPAvT72vn3"
      },
      "execution_count": null,
      "outputs": []
    },
    {
      "cell_type": "markdown",
      "source": [
        "## Train the Model\n",
        "This cell of code trains all types of regression models and selects the overall best performing model to use as the final model. Note that even though the highest Normalized MSE is highlighted, this is a visual error and the best performing Normalzied MSE is at the top of the table."
      ],
      "metadata": {
        "id": "Y-rEoq5kgRR4"
      }
    },
    {
      "cell_type": "code",
      "source": [
        "best = exp.compare_models(sort='Normalized MSE')"
      ],
      "metadata": {
        "id": "NWFK83AZ3Til"
      },
      "execution_count": null,
      "outputs": []
    },
    {
      "cell_type": "markdown",
      "source": [
        "## Analyzing the Selected Model\n",
        "\n",
        "Below are a series plots illustrating the performance and the best model."
      ],
      "metadata": {
        "id": "8i-JcEMyP7jv"
      }
    },
    {
      "cell_type": "markdown",
      "source": [
        "### Residuals\n",
        "The plot below shows the models residuals as a function of predicted value."
      ],
      "metadata": {
        "id": "6HtKw2qoQYTg"
      }
    },
    {
      "cell_type": "code",
      "source": [
        "exp.plot_model(best, plot='residuals')"
      ],
      "metadata": {
        "id": "K45qXgUo38Xx"
      },
      "execution_count": null,
      "outputs": []
    },
    {
      "cell_type": "markdown",
      "source": [
        "### Feature Importance\n",
        "The plot below shows which features have the highest importance when predicting the age of the Abalone. All features are shown."
      ],
      "metadata": {
        "id": "x0Q3p3VuQzF6"
      }
    },
    {
      "cell_type": "code",
      "source": [
        "exp.plot_model(best, plot='feature_all')"
      ],
      "metadata": {
        "id": "LXIEmTRy4FsX"
      },
      "execution_count": null,
      "outputs": []
    },
    {
      "cell_type": "markdown",
      "source": [
        "### Error Plot\n",
        "The final plot shows the predicted age as a function of actual age. A perfect model would have all points along the identity line."
      ],
      "metadata": {
        "id": "C6yjjqzJRDpH"
      }
    },
    {
      "cell_type": "code",
      "source": [
        "exp.plot_model(best, plot='error')"
      ],
      "metadata": {
        "id": "K5lIoCm2NXGm"
      },
      "execution_count": null,
      "outputs": []
    }
  ]
}